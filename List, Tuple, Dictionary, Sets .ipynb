{
 "cells": [
  {
   "cell_type": "markdown",
   "id": "4f468912-8030-426c-8e03-295ea7752ec1",
   "metadata": {},
   "source": [
    "## LIST in Python:- \n",
    "A list in Python is a collection of items that are ordered and changeable.\n",
    "It means:\n",
    "You can store multiple values (like numbers, strings, or even other lists) in a single variable.\n",
    "The order in which you add the items is preserved.\n",
    "You can change, add, or remove elements any time — that’s why lists are called mutable.\n",
    "Lists are very useful when you need to store a group of data together, such as a list of names, marks, or products. "
   ]
  },
  {
   "cell_type": "code",
   "execution_count": 4,
   "id": "d5ba512f-9d89-4889-a4fa-9c761a33eb4b",
   "metadata": {},
   "outputs": [
    {
     "name": "stdout",
     "output_type": "stream",
     "text": [
      "Tarique Anwer\n"
     ]
    },
    {
     "data": {
      "text/plain": [
       "str"
      ]
     },
     "execution_count": 4,
     "metadata": {},
     "output_type": "execute_result"
    }
   ],
   "source": [
    "## mutable vs immutable\n",
    "str1 = \"Tarique Anwer\"\n",
    "print(str1)\n",
    "type(str1)"
   ]
  },
  {
   "cell_type": "code",
   "execution_count": 5,
   "id": "c1597883-1197-4ab0-846d-e9021e9ea505",
   "metadata": {},
   "outputs": [
    {
     "name": "stdout",
     "output_type": "stream",
     "text": [
      "Khan\n"
     ]
    }
   ],
   "source": [
    "str1 = \"Khan\"\n",
    "print(str1)"
   ]
  },
  {
   "cell_type": "code",
   "execution_count": 9,
   "id": "b0886909-9bfb-407e-88be-69108100e551",
   "metadata": {},
   "outputs": [
    {
     "ename": "TypeError",
     "evalue": "'str' object does not support item assignment",
     "output_type": "error",
     "traceback": [
      "\u001b[31m---------------------------------------------------------------------------\u001b[39m",
      "\u001b[31mTypeError\u001b[39m                                 Traceback (most recent call last)",
      "\u001b[36mCell\u001b[39m\u001b[36m \u001b[39m\u001b[32mIn[9]\u001b[39m\u001b[32m, line 1\u001b[39m\n\u001b[32m----> \u001b[39m\u001b[32m1\u001b[39m \u001b[43mstr1\u001b[49m\u001b[43m[\u001b[49m\u001b[32;43m2\u001b[39;49m\u001b[43m]\u001b[49m = \u001b[33m\"\u001b[39m\u001b[33mxyz\u001b[39m\u001b[33m\"\u001b[39m\n",
      "\u001b[31mTypeError\u001b[39m: 'str' object does not support item assignment"
     ]
    }
   ],
   "source": [
    "## string are immutable\n",
    "str1[2] = \"xyz\""
   ]
  },
  {
   "cell_type": "code",
   "execution_count": 14,
   "id": "20568ff1-098d-47e7-8709-80f9de3b8117",
   "metadata": {},
   "outputs": [
    {
     "name": "stdout",
     "output_type": "stream",
     "text": [
      "[2, 6, 4, 7, 'course', 'Data Science', 3.14]\n",
      "Tarique\n"
     ]
    },
    {
     "data": {
      "text/plain": [
       "list"
      ]
     },
     "execution_count": 14,
     "metadata": {},
     "output_type": "execute_result"
    }
   ],
   "source": [
    "##lists -- mutable\n",
    "lst = [2, 6, 4, 7, \"course\", \"Data Science\", 3.14]\n",
    "print(lst)\n",
    "lst[4] = \"Tarique\"\n",
    "print(lst[4])\n",
    "type(lst)"
   ]
  },
  {
   "cell_type": "code",
   "execution_count": 17,
   "id": "15ce94dc-6764-4f0e-b7e8-cfe560c9a7f7",
   "metadata": {},
   "outputs": [
    {
     "name": "stdout",
     "output_type": "stream",
     "text": [
      "[4, 5, 2, 6, 7, 1, 9]\n"
     ]
    }
   ],
   "source": [
    "lst = list((4, 5, 2, 6, 7, 1, 9))\n",
    "type(lst)\n",
    "print(lst)"
   ]
  },
  {
   "cell_type": "code",
   "execution_count": 19,
   "id": "ee6a4ada-eac4-4216-bb2b-210ffae67877",
   "metadata": {},
   "outputs": [],
   "source": [
    "lst = [2, 4, 5, 1, 6, 7, 9]"
   ]
  },
  {
   "cell_type": "code",
   "execution_count": 21,
   "id": "05b3c412-2e02-466a-9d1b-cedcf23dd906",
   "metadata": {},
   "outputs": [
    {
     "name": "stdout",
     "output_type": "stream",
     "text": [
      "4\n",
      "16\n",
      "25\n",
      "1\n",
      "36\n",
      "49\n",
      "81\n"
     ]
    }
   ],
   "source": [
    "for i in lst:\n",
    "    print(i**2)"
   ]
  },
  {
   "cell_type": "code",
   "execution_count": 24,
   "id": "56b8b4d5-c5c5-4663-b53e-4b110dba8f97",
   "metadata": {},
   "outputs": [
    {
     "data": {
      "text/plain": [
       "1"
      ]
     },
     "execution_count": 24,
     "metadata": {},
     "output_type": "execute_result"
    }
   ],
   "source": [
    "# len(lst)\n",
    "# max(lst)\n",
    "min(lst)"
   ]
  },
  {
   "cell_type": "code",
   "execution_count": 18,
   "id": "a59feb14-489a-4606-9bff-0a8a0a5697ad",
   "metadata": {},
   "outputs": [
    {
     "data": {
      "text/plain": [
       "list"
      ]
     },
     "execution_count": 18,
     "metadata": {},
     "output_type": "execute_result"
    }
   ],
   "source": [
    "type([])"
   ]
  },
  {
   "cell_type": "code",
   "execution_count": 26,
   "id": "c3fd2768-666f-4ba7-a85d-b04b67aad5ee",
   "metadata": {},
   "outputs": [
    {
     "data": {
      "text/plain": [
       "list"
      ]
     },
     "execution_count": 26,
     "metadata": {},
     "output_type": "execute_result"
    }
   ],
   "source": [
    "list_example= []\n",
    "type(list_example)"
   ]
  },
  {
   "cell_type": "code",
   "execution_count": 32,
   "id": "b0b11acf-ade0-435f-907d-e143e107be7c",
   "metadata": {},
   "outputs": [
    {
     "data": {
      "text/plain": [
       "8"
      ]
     },
     "execution_count": 32,
     "metadata": {},
     "output_type": "execute_result"
    }
   ],
   "source": [
    "lst = [\"Sql\", \"Statistics\", \"Python\", 20, 30, 100, 21, 80]\n",
    "len(lst)"
   ]
  },
  {
   "cell_type": "code",
   "execution_count": 34,
   "id": "4191074e-1a96-4bc8-aac9-f6111398c4c9",
   "metadata": {},
   "outputs": [
    {
     "data": {
      "text/plain": [
       "list"
      ]
     },
     "execution_count": 34,
     "metadata": {},
     "output_type": "execute_result"
    }
   ],
   "source": [
    "type(lst)"
   ]
  },
  {
   "cell_type": "markdown",
   "id": "d516b536-e1da-4330-9ac6-b5d563303000",
   "metadata": {},
   "source": [
    "## Append Method\n",
    "Append is used to add elements in the list "
   ]
  },
  {
   "cell_type": "code",
   "execution_count": 35,
   "id": "7f822144-dff5-4018-bbfc-cec6c5c5755c",
   "metadata": {},
   "outputs": [
    {
     "data": {
      "text/plain": [
       "['Sql', 'Statistics', 'Python', 20, 30, 100, 21, 80]"
      ]
     },
     "execution_count": 35,
     "metadata": {},
     "output_type": "execute_result"
    }
   ],
   "source": [
    "lst"
   ]
  },
  {
   "cell_type": "code",
   "execution_count": 40,
   "id": "c38d1f5f-9b0f-40b7-8bde-2a557d0fc5df",
   "metadata": {},
   "outputs": [
    {
     "data": {
      "text/plain": [
       "['Sql',\n",
       " 'Statistics',\n",
       " 'Python',\n",
       " 20,\n",
       " 30,\n",
       " 100,\n",
       " 21,\n",
       " 80,\n",
       " 'Data Science',\n",
       " 'Data Science',\n",
       " 'Data Science']"
      ]
     },
     "execution_count": 40,
     "metadata": {},
     "output_type": "execute_result"
    }
   ],
   "source": [
    "lst.append(\"Data Science\")\n",
    "lst"
   ]
  },
  {
   "cell_type": "code",
   "execution_count": 41,
   "id": "ebe66ba0-a44a-4bc6-b2c3-5763b4a3fc69",
   "metadata": {},
   "outputs": [
    {
     "data": {
      "text/plain": [
       "['Sql',\n",
       " 'Statistics',\n",
       " 'Python',\n",
       " 20,\n",
       " 30,\n",
       " 100,\n",
       " 21,\n",
       " 80,\n",
       " 'Data Science',\n",
       " 'Data Science',\n",
       " 'Data Science',\n",
       " ['Tarique', 'Khan']]"
      ]
     },
     "execution_count": 41,
     "metadata": {},
     "output_type": "execute_result"
    }
   ],
   "source": [
    "lst.append([\"Tarique\", \"Khan\"])\n",
    "lst"
   ]
  },
  {
   "cell_type": "code",
   "execution_count": 44,
   "id": "9e9869d0-7887-4597-b77a-28bc3fcef605",
   "metadata": {},
   "outputs": [
    {
     "data": {
      "text/plain": [
       "['Statistics',\n",
       " 'Python',\n",
       " 20,\n",
       " 30,\n",
       " 100,\n",
       " 21,\n",
       " 80,\n",
       " 'Data Science',\n",
       " 'Data Science',\n",
       " 'Data Science']"
      ]
     },
     "execution_count": 44,
     "metadata": {},
     "output_type": "execute_result"
    }
   ],
   "source": [
    "lst[1:11]"
   ]
  },
  {
   "cell_type": "code",
   "execution_count": 47,
   "id": "4f3c4245-91ce-4f32-a4a8-bfc21846361e",
   "metadata": {},
   "outputs": [],
   "source": [
    "lst.remove(\"Data Science\")"
   ]
  },
  {
   "cell_type": "code",
   "execution_count": 48,
   "id": "f1f05276-7e37-4595-aaf7-51ada3edec97",
   "metadata": {},
   "outputs": [
    {
     "data": {
      "text/plain": [
       "['Sql',\n",
       " 'Statistics',\n",
       " 'Python',\n",
       " 20,\n",
       " 30,\n",
       " 100,\n",
       " 21,\n",
       " 80,\n",
       " 'Data Science',\n",
       " ['Tarique', 'Khan']]"
      ]
     },
     "execution_count": 48,
     "metadata": {},
     "output_type": "execute_result"
    }
   ],
   "source": [
    "lst"
   ]
  },
  {
   "cell_type": "code",
   "execution_count": 60,
   "id": "3491b905-7f5a-4b29-8e3e-cec4fa5f8610",
   "metadata": {},
   "outputs": [
    {
     "data": {
      "text/plain": [
       "['Tarique', 'Khan']"
      ]
     },
     "execution_count": 60,
     "metadata": {},
     "output_type": "execute_result"
    }
   ],
   "source": [
    "# indexing in list\n",
    "lst[9]"
   ]
  },
  {
   "cell_type": "code",
   "execution_count": 59,
   "id": "e5c3d9c7-07b4-41c1-8845-1e0901e0c10a",
   "metadata": {},
   "outputs": [
    {
     "data": {
      "text/plain": [
       "'Tarique'"
      ]
     },
     "execution_count": 59,
     "metadata": {},
     "output_type": "execute_result"
    }
   ],
   "source": [
    "lst[9][0]"
   ]
  },
  {
   "cell_type": "code",
   "execution_count": 61,
   "id": "e4fac815-a1e7-4e89-aac4-b6a1b002cb43",
   "metadata": {},
   "outputs": [
    {
     "data": {
      "text/plain": [
       "['Statistics', 'Python', 20, 30, 100]"
      ]
     },
     "execution_count": 61,
     "metadata": {},
     "output_type": "execute_result"
    }
   ],
   "source": [
    "lst[1:6]"
   ]
  },
  {
   "cell_type": "markdown",
   "id": "b0e2bf0f-2060-453f-b27a-0260455c71d4",
   "metadata": {},
   "source": [
    "## Insert Function "
   ]
  },
  {
   "cell_type": "code",
   "execution_count": 62,
   "id": "7361fd5b-4e65-46e7-af34-e03c4f0a7668",
   "metadata": {},
   "outputs": [
    {
     "data": {
      "text/plain": [
       "['Sql',\n",
       " 'Statistics',\n",
       " 'Python',\n",
       " 20,\n",
       " 30,\n",
       " 100,\n",
       " 21,\n",
       " 80,\n",
       " 'Data Science',\n",
       " ['Tarique', 'Khan']]"
      ]
     },
     "execution_count": 62,
     "metadata": {},
     "output_type": "execute_result"
    }
   ],
   "source": [
    "lst"
   ]
  },
  {
   "cell_type": "code",
   "execution_count": 63,
   "id": "9d3038d1-6bb1-446a-aacf-96886a82b5f6",
   "metadata": {},
   "outputs": [
    {
     "data": {
      "text/plain": [
       "['Sql',\n",
       " 'Statistics',\n",
       " 'Python',\n",
       " 'Machine Learning',\n",
       " 20,\n",
       " 30,\n",
       " 100,\n",
       " 21,\n",
       " 80,\n",
       " 'Data Science',\n",
       " ['Tarique', 'Khan']]"
      ]
     },
     "execution_count": 63,
     "metadata": {},
     "output_type": "execute_result"
    }
   ],
   "source": [
    "# insert in a specific order\n",
    "lst.insert(3, \"Machine Learning\")\n",
    "lst"
   ]
  },
  {
   "cell_type": "code",
   "execution_count": 64,
   "id": "b4db18d6-cbaa-4449-9fea-2bd26b51c615",
   "metadata": {},
   "outputs": [],
   "source": [
    "lst.append(\"Data Scientist\")"
   ]
  },
  {
   "cell_type": "code",
   "execution_count": 65,
   "id": "bc2eadbb-f011-436a-93de-5a3a61b1dd1f",
   "metadata": {},
   "outputs": [
    {
     "data": {
      "text/plain": [
       "['Sql',\n",
       " 'Statistics',\n",
       " 'Python',\n",
       " 'Machine Learning',\n",
       " 20,\n",
       " 30,\n",
       " 100,\n",
       " 21,\n",
       " 80,\n",
       " 'Data Science',\n",
       " ['Tarique', 'Khan'],\n",
       " 'Data Scientist']"
      ]
     },
     "execution_count": 65,
     "metadata": {},
     "output_type": "execute_result"
    }
   ],
   "source": [
    "lst"
   ]
  },
  {
   "cell_type": "code",
   "execution_count": 66,
   "id": "7bc15155-aa32-4bba-b3f9-6d22eec130a8",
   "metadata": {},
   "outputs": [],
   "source": [
    "lst = [2, 1, 4, 5, 3]"
   ]
  },
  {
   "cell_type": "code",
   "execution_count": 69,
   "id": "b9b1eb4c-0dbc-43c3-8230-0905d361b3f9",
   "metadata": {},
   "outputs": [
    {
     "data": {
      "text/plain": [
       "[2, 1, 4, 5, 3, [7, 9], [7, 9]]"
      ]
     },
     "execution_count": 69,
     "metadata": {},
     "output_type": "execute_result"
    }
   ],
   "source": [
    "lst.append([7,9])\n",
    "lst"
   ]
  },
  {
   "cell_type": "code",
   "execution_count": 70,
   "id": "18b1b714-e174-4a81-9edf-a9f9bb3156b4",
   "metadata": {},
   "outputs": [],
   "source": [
    "lst.remove([7,9])"
   ]
  },
  {
   "cell_type": "code",
   "execution_count": 71,
   "id": "6f0d492e-3462-42a0-88c4-a46f4119a518",
   "metadata": {},
   "outputs": [
    {
     "data": {
      "text/plain": [
       "[2, 1, 4, 5, 3, [7, 9]]"
      ]
     },
     "execution_count": 71,
     "metadata": {},
     "output_type": "execute_result"
    }
   ],
   "source": [
    "lst"
   ]
  },
  {
   "cell_type": "markdown",
   "id": "eac1dc75-a992-460d-a10e-8138bd421c3b",
   "metadata": {},
   "source": [
    "## Extend method"
   ]
  },
  {
   "cell_type": "code",
   "execution_count": 83,
   "id": "5f5ff555-8f38-4b65-82da-d68b9d02b3f0",
   "metadata": {},
   "outputs": [
    {
     "data": {
      "text/plain": [
       "[1, 2, 3, 4, 5, [6, 7, 8]]"
      ]
     },
     "execution_count": 83,
     "metadata": {},
     "output_type": "execute_result"
    }
   ],
   "source": [
    "lst = [1, 2, 3, 4, 5]\n",
    "lst.append([6, 7, 8])\n",
    "lst"
   ]
  },
  {
   "cell_type": "code",
   "execution_count": 84,
   "id": "da89e71f-4125-4daa-8784-edd94d358f03",
   "metadata": {},
   "outputs": [
    {
     "data": {
      "text/plain": [
       "[1, 2, 3, 4, 5, 6, 7, 8, 9]"
      ]
     },
     "execution_count": 84,
     "metadata": {},
     "output_type": "execute_result"
    }
   ],
   "source": [
    "lst = [1, 2, 3, 4, 5, 6]\n",
    "lst.extend([7, 8, 9])\n",
    "lst"
   ]
  },
  {
   "cell_type": "markdown",
   "id": "3d1e4e83-5031-4a59-aed5-0e2934bed4b7",
   "metadata": {},
   "source": [
    "## Different type of operations that we can perform in list"
   ]
  },
  {
   "cell_type": "code",
   "execution_count": 86,
   "id": "e1913641-8a49-42fa-ac0f-274861b30547",
   "metadata": {},
   "outputs": [
    {
     "data": {
      "text/plain": [
       "86"
      ]
     },
     "execution_count": 86,
     "metadata": {},
     "output_type": "execute_result"
    }
   ],
   "source": [
    "lst = [4, 6, 11, 15, 20, 30]\n",
    "sum(lst)"
   ]
  },
  {
   "cell_type": "code",
   "execution_count": 88,
   "id": "ce8c06f4-30d7-48da-9d54-fc673c0f925e",
   "metadata": {},
   "outputs": [
    {
     "data": {
      "text/plain": [
       "[4,\n",
       " 6,\n",
       " 11,\n",
       " 15,\n",
       " 20,\n",
       " 30,\n",
       " 4,\n",
       " 6,\n",
       " 11,\n",
       " 15,\n",
       " 20,\n",
       " 30,\n",
       " 4,\n",
       " 6,\n",
       " 11,\n",
       " 15,\n",
       " 20,\n",
       " 30,\n",
       " 4,\n",
       " 6,\n",
       " 11,\n",
       " 15,\n",
       " 20,\n",
       " 30,\n",
       " 4,\n",
       " 6,\n",
       " 11,\n",
       " 15,\n",
       " 20,\n",
       " 30]"
      ]
     },
     "execution_count": 88,
     "metadata": {},
     "output_type": "execute_result"
    }
   ],
   "source": [
    "lst*5"
   ]
  },
  {
   "cell_type": "code",
   "execution_count": 89,
   "id": "843753ea-1e65-415c-9668-f51fb6217f5e",
   "metadata": {},
   "outputs": [
    {
     "name": "stdout",
     "output_type": "stream",
     "text": [
      "0.8\n",
      "1.2\n",
      "2.2\n",
      "3.0\n",
      "4.0\n",
      "6.0\n"
     ]
    }
   ],
   "source": [
    "for i in lst:\n",
    "    print(i/5)"
   ]
  },
  {
   "cell_type": "code",
   "execution_count": 90,
   "id": "597c7cfe-92e6-4caf-b6dd-9f808ed094d6",
   "metadata": {},
   "outputs": [
    {
     "data": {
      "text/plain": [
       "[4, 6, 11, 15, 20, 30]"
      ]
     },
     "execution_count": 90,
     "metadata": {},
     "output_type": "execute_result"
    }
   ],
   "source": [
    "lst"
   ]
  },
  {
   "cell_type": "markdown",
   "id": "a28bd6a9-395f-42ca-b6ac-359b8656129b",
   "metadata": {},
   "source": [
    "## Pop() method"
   ]
  },
  {
   "cell_type": "code",
   "execution_count": 91,
   "id": "a55dd934-5c2f-42db-b132-508ea1c6c2d4",
   "metadata": {},
   "outputs": [
    {
     "data": {
      "text/plain": [
       "30"
      ]
     },
     "execution_count": 91,
     "metadata": {},
     "output_type": "execute_result"
    }
   ],
   "source": [
    "lst.pop()"
   ]
  },
  {
   "cell_type": "code",
   "execution_count": 92,
   "id": "f4e81cbc-750c-4475-8c82-5a9ee2980c10",
   "metadata": {},
   "outputs": [
    {
     "data": {
      "text/plain": [
       "[4, 6, 11, 15, 20]"
      ]
     },
     "execution_count": 92,
     "metadata": {},
     "output_type": "execute_result"
    }
   ],
   "source": [
    "lst"
   ]
  },
  {
   "cell_type": "code",
   "execution_count": 93,
   "id": "a6d3012e-02a9-42ee-a84c-1ccd18649fc5",
   "metadata": {},
   "outputs": [
    {
     "data": {
      "text/plain": [
       "15"
      ]
     },
     "execution_count": 93,
     "metadata": {},
     "output_type": "execute_result"
    }
   ],
   "source": [
    "lst.pop(3)"
   ]
  },
  {
   "cell_type": "code",
   "execution_count": 94,
   "id": "184429fe-5827-4d76-a12c-888e50d59dcd",
   "metadata": {},
   "outputs": [
    {
     "data": {
      "text/plain": [
       "[4, 6, 11, 20]"
      ]
     },
     "execution_count": 94,
     "metadata": {},
     "output_type": "execute_result"
    }
   ],
   "source": [
    "lst"
   ]
  },
  {
   "cell_type": "markdown",
   "id": "487ff826-8a55-4a86-bbee-d53413d7bddc",
   "metadata": {},
   "source": [
    "## count():Calculates total occurrence"
   ]
  },
  {
   "cell_type": "code",
   "execution_count": 97,
   "id": "b0416b36-5212-4d52-aac6-eace8c65b951",
   "metadata": {},
   "outputs": [
    {
     "data": {
      "text/plain": [
       "3"
      ]
     },
     "execution_count": 97,
     "metadata": {},
     "output_type": "execute_result"
    }
   ],
   "source": [
    "lst = [2, 3, 4, 1, 4, 5, 6, 2, 5, 6, 3, 2, 1, 4, 3]\n",
    "# it will calculate how many times 4 occures\n",
    "lst.count(4)"
   ]
  },
  {
   "cell_type": "code",
   "execution_count": 98,
   "id": "8347b45d-70e1-4680-8f84-d43699b4b4b7",
   "metadata": {},
   "outputs": [
    {
     "data": {
      "text/plain": [
       "15"
      ]
     },
     "execution_count": 98,
     "metadata": {},
     "output_type": "execute_result"
    }
   ],
   "source": [
    "# Calculates total length of List\n",
    "len(lst)"
   ]
  },
  {
   "cell_type": "code",
   "execution_count": 102,
   "id": "dd439308-0ff0-4665-a220-425ae94a16da",
   "metadata": {},
   "outputs": [
    {
     "data": {
      "text/plain": [
       "6"
      ]
     },
     "execution_count": 102,
     "metadata": {},
     "output_type": "execute_result"
    }
   ],
   "source": [
    "lst.index(6)"
   ]
  },
  {
   "cell_type": "code",
   "execution_count": 103,
   "id": "ae8797f0-e5cb-4055-a711-8de1870b0e77",
   "metadata": {},
   "outputs": [
    {
     "data": {
      "text/plain": [
       "1"
      ]
     },
     "execution_count": 103,
     "metadata": {},
     "output_type": "execute_result"
    }
   ],
   "source": [
    "min(lst)"
   ]
  },
  {
   "cell_type": "code",
   "execution_count": 104,
   "id": "d135113e-d380-4f13-ad80-c40c40fec29d",
   "metadata": {},
   "outputs": [
    {
     "data": {
      "text/plain": [
       "6"
      ]
     },
     "execution_count": 104,
     "metadata": {},
     "output_type": "execute_result"
    }
   ],
   "source": [
    "max(lst)"
   ]
  },
  {
   "cell_type": "markdown",
   "id": "6057d8d5-5b43-4d1c-b393-55292267442f",
   "metadata": {},
   "source": [
    "## Set in Python\n",
    "A Set in Python is a collection of unique and unordered elements.\n",
    "That means:\n",
    "A set cannot have duplicate values.\n",
    "The items in a set do not have a fixed order (so you cannot access them by index).\n",
    "Sets are mutable, which means you can add or remove elements, but you cannot change individual elements.\n",
    "Sets are mainly used when you want to store unique items and perform mathematical operations like union, intersection, and difference."
   ]
  },
  {
   "cell_type": "code",
   "execution_count": 106,
   "id": "e18ab592-fd8b-4f4c-b44c-65a0c864de82",
   "metadata": {},
   "outputs": [
    {
     "name": "stdout",
     "output_type": "stream",
     "text": [
      "set()\n",
      "<class 'set'>\n"
     ]
    }
   ],
   "source": [
    "## Defining an empy set\n",
    "set_var = set()\n",
    "print(set_var)\n",
    "print(type(set_var))"
   ]
  },
  {
   "cell_type": "code",
   "execution_count": 107,
   "id": "fd3230ed-a74f-40bf-b454-9be2fb44ca53",
   "metadata": {},
   "outputs": [
    {
     "name": "stdout",
     "output_type": "stream",
     "text": [
      "{1, 2, 3, 4, 5, 7}\n"
     ]
    }
   ],
   "source": [
    "print(set([4, 5, 2, 7, 2, 3, 4, 2, 1, 2]))  # no duplicates elements"
   ]
  },
  {
   "cell_type": "code",
   "execution_count": 117,
   "id": "e88dd8e3-9831-4dab-a99d-f83be07b45db",
   "metadata": {},
   "outputs": [
    {
     "name": "stdout",
     "output_type": "stream",
     "text": [
      "{2, 3, 6, 9, 11}\n"
     ]
    }
   ],
   "source": [
    "set_1 = set([6, 3, 2, 9, 11])\n",
    "print(set_1)"
   ]
  },
  {
   "cell_type": "code",
   "execution_count": 118,
   "id": "d2e501b3-7c8f-4a10-955c-b3ee0c9cd208",
   "metadata": {},
   "outputs": [
    {
     "name": "stdout",
     "output_type": "stream",
     "text": [
      "{1, 2, 3, 6, 9, 11}\n"
     ]
    }
   ],
   "source": [
    "set_1.add(1)\n",
    "print(set_1)"
   ]
  },
  {
   "cell_type": "code",
   "execution_count": 108,
   "id": "39c7c46c-4346-40d7-945f-6b004fdd651d",
   "metadata": {},
   "outputs": [
    {
     "data": {
      "text/plain": [
       "{1, 2, 3, 4, 5}"
      ]
     },
     "execution_count": 108,
     "metadata": {},
     "output_type": "execute_result"
    }
   ],
   "source": [
    "set_var = {2, 3, 4, 4, 5, 5, 3, 2, 5, 1}\n",
    "set_var"
   ]
  },
  {
   "cell_type": "code",
   "execution_count": 111,
   "id": "33535b3a-29a5-4eaa-a09d-37fb5f828a56",
   "metadata": {},
   "outputs": [
    {
     "name": "stdout",
     "output_type": "stream",
     "text": [
      "{'SQL', 'Statistics', 'Python', 'Mathematics', 'Machine Learning'}\n"
     ]
    },
    {
     "data": {
      "text/plain": [
       "set"
      ]
     },
     "execution_count": 111,
     "metadata": {},
     "output_type": "execute_result"
    }
   ],
   "source": [
    "set_var = {\"Python\", \"Machine Learning\", \"SQL\", \"Statistics\", \"Mathematics\"}\n",
    "print(set_var)\n",
    "type(set_var)"
   ]
  },
  {
   "cell_type": "code",
   "execution_count": 113,
   "id": "8c3f75f8-e2d3-472d-9c18-22c2d3da35d3",
   "metadata": {},
   "outputs": [
    {
     "name": "stdout",
     "output_type": "stream",
     "text": [
      "SQL\n",
      "Statistics\n",
      "Python\n",
      "Mathematics\n",
      "Machine Learning\n"
     ]
    }
   ],
   "source": [
    "for i in set_var:\n",
    "    print(i)"
   ]
  },
  {
   "cell_type": "code",
   "execution_count": 114,
   "id": "63790c65-b1d3-4cdb-831f-62289a9d52e2",
   "metadata": {},
   "outputs": [
    {
     "data": {
      "text/plain": [
       "{'Machine Learning', 'Mathematics', 'Power BI', 'Python', 'SQL', 'Statistics'}"
      ]
     },
     "execution_count": 114,
     "metadata": {},
     "output_type": "execute_result"
    }
   ],
   "source": [
    "set_var.add(\"Power BI\")\n",
    "set_var"
   ]
  },
  {
   "cell_type": "code",
   "execution_count": 115,
   "id": "7e39404d-b91c-4949-986e-64772398843d",
   "metadata": {},
   "outputs": [
    {
     "data": {
      "text/plain": [
       "{'Excel',\n",
       " 'Machine Learning',\n",
       " 'Mathematics',\n",
       " 'Power BI',\n",
       " 'Python',\n",
       " 'SQL',\n",
       " 'Statistics'}"
      ]
     },
     "execution_count": 115,
     "metadata": {},
     "output_type": "execute_result"
    }
   ],
   "source": [
    "set_var.add(\"Excel\")\n",
    "set_var"
   ]
  },
  {
   "cell_type": "code",
   "execution_count": 122,
   "id": "06d5d436-98c6-4f00-b81a-cdbbc63ade21",
   "metadata": {},
   "outputs": [],
   "source": [
    "set1 = {\"Gen AI\",\"Python\", \"Machine Learning\", \"SQL\"}\n",
    "set2 = {\"Python\", \"Machine Learning\", \"SQL\", \"Statistics\", \"Mathematics\"}"
   ]
  },
  {
   "cell_type": "code",
   "execution_count": 120,
   "id": "89cd492b-2d92-438e-b8ec-7959bc24e104",
   "metadata": {},
   "outputs": [
    {
     "data": {
      "text/plain": [
       "{'Machine Learning', 'Python', 'SQL'}"
      ]
     },
     "execution_count": 120,
     "metadata": {},
     "output_type": "execute_result"
    }
   ],
   "source": [
    "set2.intersection_update(set1)\n",
    "set2"
   ]
  },
  {
   "cell_type": "code",
   "execution_count": 125,
   "id": "f984a206-5971-46c5-b805-3967b412d06d",
   "metadata": {},
   "outputs": [
    {
     "data": {
      "text/plain": [
       "{'Mathematics', 'Statistics'}"
      ]
     },
     "execution_count": 125,
     "metadata": {},
     "output_type": "execute_result"
    }
   ],
   "source": [
    "set2.difference(set1)  # difference "
   ]
  },
  {
   "cell_type": "code",
   "execution_count": 126,
   "id": "1af796e2-cd76-4fb3-8ec9-f2e5d1e56dd9",
   "metadata": {},
   "outputs": [],
   "source": [
    "set2.difference_update(set1)"
   ]
  },
  {
   "cell_type": "code",
   "execution_count": 128,
   "id": "55caff15-683b-4d4a-a9b5-d95d4f960cb3",
   "metadata": {},
   "outputs": [
    {
     "name": "stdout",
     "output_type": "stream",
     "text": [
      "{'Statistics', 'Mathematics'}\n"
     ]
    }
   ],
   "source": [
    "print(set2)"
   ]
  },
  {
   "cell_type": "code",
   "execution_count": 143,
   "id": "8ca55f49-1917-4e9b-8c5e-668ce115abef",
   "metadata": {},
   "outputs": [],
   "source": [
    "set1 = {\"Python\", \"Machine Learning\", \"SQL\"}\n",
    "set2 = {\"Python\", \"Machine Learning\", \"SQL\", \"Statistics\", \"Mathematics\"}"
   ]
  },
  {
   "cell_type": "code",
   "execution_count": 146,
   "id": "038dd7bc-0259-4377-965a-d0af53f398b0",
   "metadata": {},
   "outputs": [
    {
     "data": {
      "text/plain": [
       "True"
      ]
     },
     "execution_count": 146,
     "metadata": {},
     "output_type": "execute_result"
    }
   ],
   "source": [
    "set2.issuperset(set1)"
   ]
  },
  {
   "cell_type": "code",
   "execution_count": 148,
   "id": "0e90f66b-db7d-46ce-bfd0-fda86a85a9ad",
   "metadata": {},
   "outputs": [
    {
     "data": {
      "text/plain": [
       "False"
      ]
     },
     "execution_count": 148,
     "metadata": {},
     "output_type": "execute_result"
    }
   ],
   "source": [
    "set2.issubset(set1)"
   ]
  },
  {
   "cell_type": "markdown",
   "id": "f63aa1fa-12c0-4a9d-a205-6506e900b212",
   "metadata": {},
   "source": [
    "## Dictionary in Python\n",
    "A dictionary in Python is a collection of data stored in key-value pairs.\n",
    "Each value is connected to a key, and you use the key to access its value — just like you use a name to find a phone number in a contact list.\n",
    "Dictionaries are mutable, so you can add, change, or delete items.\n",
    "They are very useful for storing structured information — for example, a student’s name, age, and marks."
   ]
  },
  {
   "cell_type": "code",
   "execution_count": 149,
   "id": "9f8d1eff-db8a-44f5-8105-447d7a7c7226",
   "metadata": {},
   "outputs": [],
   "source": [
    "dic = {}"
   ]
  },
  {
   "cell_type": "code",
   "execution_count": 150,
   "id": "b409ea82-c4cf-4e5e-ac26-d5a66f2bbe3c",
   "metadata": {},
   "outputs": [
    {
     "data": {
      "text/plain": [
       "dict"
      ]
     },
     "execution_count": 150,
     "metadata": {},
     "output_type": "execute_result"
    }
   ],
   "source": [
    "type(dic)"
   ]
  },
  {
   "cell_type": "code",
   "execution_count": 151,
   "id": "d25cbe3f-4da4-4ee2-b61b-bfabfc4dd999",
   "metadata": {},
   "outputs": [
    {
     "data": {
      "text/plain": [
       "dict"
      ]
     },
     "execution_count": 151,
     "metadata": {},
     "output_type": "execute_result"
    }
   ],
   "source": [
    "type(dict())"
   ]
  },
  {
   "cell_type": "code",
   "execution_count": 152,
   "id": "49b813d4-35b6-474b-8574-d280ec425179",
   "metadata": {},
   "outputs": [
    {
     "data": {
      "text/plain": [
       "dict"
      ]
     },
     "execution_count": 152,
     "metadata": {},
     "output_type": "execute_result"
    }
   ],
   "source": [
    "type({20:\"Tarique Anwer Khan\"})"
   ]
  },
  {
   "cell_type": "code",
   "execution_count": 158,
   "id": "21924bdc-f98d-4563-bab3-d9604ce737c9",
   "metadata": {},
   "outputs": [
    {
     "data": {
      "text/plain": [
       "{'name': 'Tarique Anwer', 'age': 25, 'sur_name': 'Khan'}"
      ]
     },
     "execution_count": 158,
     "metadata": {},
     "output_type": "execute_result"
    }
   ],
   "source": [
    "dict(name = \"Tarique Anwer\", age = 25, sur_name = \"Khan\")"
   ]
  },
  {
   "cell_type": "code",
   "execution_count": 159,
   "id": "bb179d40-09fd-4db3-9d89-aebb4ddf3154",
   "metadata": {},
   "outputs": [
    {
     "data": {
      "text/plain": [
       "dict"
      ]
     },
     "execution_count": 159,
     "metadata": {},
     "output_type": "execute_result"
    }
   ],
   "source": [
    "my_dict = {\"Skill1\": \"Sql\", \"Skill2\": \"Python\", \"Skill3\": \"Statistics\", \"Skill4\": \"Machine Learning\", \"Skill5\": \"Power BI\"}\n",
    "type(my_dict)"
   ]
  },
  {
   "cell_type": "code",
   "execution_count": 166,
   "id": "31c899cc-9e9c-4f3c-8720-95f673567c7e",
   "metadata": {},
   "outputs": [
    {
     "data": {
      "text/plain": [
       "dict_items([('Skill1', 'Sql'), ('Skill2', 'Python'), ('Skill3', 'Statistics'), ('Skill4', 'Machine Learning'), ('Skill5', 'Power BI')])"
      ]
     },
     "execution_count": 166,
     "metadata": {},
     "output_type": "execute_result"
    }
   ],
   "source": [
    "my_dict.items()"
   ]
  },
  {
   "cell_type": "code",
   "execution_count": 167,
   "id": "e6ef0141-2ffb-4afc-9971-464fb4e368be",
   "metadata": {},
   "outputs": [
    {
     "data": {
      "text/plain": [
       "dict_keys(['Skill1', 'Skill2', 'Skill3', 'Skill4', 'Skill5'])"
      ]
     },
     "execution_count": 167,
     "metadata": {},
     "output_type": "execute_result"
    }
   ],
   "source": [
    "my_dict.keys()"
   ]
  },
  {
   "cell_type": "code",
   "execution_count": 168,
   "id": "3bbe17bc-4a61-419c-b8eb-4e6ba8af467a",
   "metadata": {},
   "outputs": [
    {
     "data": {
      "text/plain": [
       "dict_values(['Sql', 'Python', 'Statistics', 'Machine Learning', 'Power BI'])"
      ]
     },
     "execution_count": 168,
     "metadata": {},
     "output_type": "execute_result"
    }
   ],
   "source": [
    "my_dict.values()"
   ]
  },
  {
   "cell_type": "code",
   "execution_count": 163,
   "id": "c787540b-cf48-44a4-acea-e14210dbd21d",
   "metadata": {},
   "outputs": [
    {
     "data": {
      "text/plain": [
       "'Statistics'"
      ]
     },
     "execution_count": 163,
     "metadata": {},
     "output_type": "execute_result"
    }
   ],
   "source": [
    "my_dict[\"Skill3\"]   # access the item values based on key"
   ]
  },
  {
   "cell_type": "code",
   "execution_count": 164,
   "id": "87dfbeb0-172d-47c4-ad42-f433d3f84398",
   "metadata": {},
   "outputs": [
    {
     "data": {
      "text/plain": [
       "'Sql'"
      ]
     },
     "execution_count": 164,
     "metadata": {},
     "output_type": "execute_result"
    }
   ],
   "source": [
    "my_dict[\"Skill1\"]"
   ]
  },
  {
   "cell_type": "code",
   "execution_count": 172,
   "id": "3a5eeea3-f27b-4d95-87d9-68997489c9e2",
   "metadata": {},
   "outputs": [
    {
     "name": "stdout",
     "output_type": "stream",
     "text": [
      "Skill1\n",
      "Skill2\n",
      "Skill3\n",
      "Skill4\n",
      "Skill5\n"
     ]
    }
   ],
   "source": [
    "for i in my_dict.keys():\n",
    "    print(i)"
   ]
  },
  {
   "cell_type": "code",
   "execution_count": 173,
   "id": "6ec388b2-3e42-40bf-b7ba-c283cf4fe95c",
   "metadata": {},
   "outputs": [
    {
     "name": "stdout",
     "output_type": "stream",
     "text": [
      "Sql\n",
      "Python\n",
      "Statistics\n",
      "Machine Learning\n",
      "Power BI\n"
     ]
    }
   ],
   "source": [
    "for i in my_dict.values():\n",
    "    print(i)"
   ]
  },
  {
   "cell_type": "code",
   "execution_count": 174,
   "id": "347eca64-ce82-491c-b961-a416552f57f0",
   "metadata": {},
   "outputs": [
    {
     "name": "stdout",
     "output_type": "stream",
     "text": [
      "('Skill1', 'Sql')\n",
      "('Skill2', 'Python')\n",
      "('Skill3', 'Statistics')\n",
      "('Skill4', 'Machine Learning')\n",
      "('Skill5', 'Power BI')\n"
     ]
    }
   ],
   "source": [
    "# we can also check both keys and values\n",
    "for i in my_dict.items():\n",
    "    print(i)"
   ]
  },
  {
   "cell_type": "code",
   "execution_count": 175,
   "id": "d87542d3-3892-44e4-9c28-58d346c5226d",
   "metadata": {},
   "outputs": [],
   "source": [
    "# Adding items in dictionaries\n",
    "my_dict[\"Skill6\"] = \"Gen AI\""
   ]
  },
  {
   "cell_type": "code",
   "execution_count": 176,
   "id": "3153be4f-57e0-43e2-b37b-402eed73c7aa",
   "metadata": {},
   "outputs": [
    {
     "data": {
      "text/plain": [
       "{'Skill1': 'Sql',\n",
       " 'Skill2': 'Python',\n",
       " 'Skill3': 'Statistics',\n",
       " 'Skill4': 'Machine Learning',\n",
       " 'Skill5': 'Power BI',\n",
       " 'Skill6': 'Gen AI'}"
      ]
     },
     "execution_count": 176,
     "metadata": {},
     "output_type": "execute_result"
    }
   ],
   "source": [
    "my_dict"
   ]
  },
  {
   "cell_type": "code",
   "execution_count": 177,
   "id": "19b2e3df-097f-4a78-aaff-e2dc45aee7cd",
   "metadata": {},
   "outputs": [],
   "source": [
    "my_dict[\"Skill3\"] = \"Math and Statistics\""
   ]
  },
  {
   "cell_type": "code",
   "execution_count": 178,
   "id": "fe263d6e-ff0e-4bc9-8571-6af3ddfa11d0",
   "metadata": {},
   "outputs": [
    {
     "data": {
      "text/plain": [
       "{'Skill1': 'Sql',\n",
       " 'Skill2': 'Python',\n",
       " 'Skill3': 'Math and Statistics',\n",
       " 'Skill4': 'Machine Learning',\n",
       " 'Skill5': 'Power BI',\n",
       " 'Skill6': 'Gen AI'}"
      ]
     },
     "execution_count": 178,
     "metadata": {},
     "output_type": "execute_result"
    }
   ],
   "source": [
    "my_dict"
   ]
  },
  {
   "cell_type": "markdown",
   "id": "3e77087b-7c57-4fbb-8ead-9d74820ff097",
   "metadata": {},
   "source": [
    "## Nested Dictionary "
   ]
  },
  {
   "cell_type": "code",
   "execution_count": 179,
   "id": "d32fc063-80cb-4071-a1cd-9672721d8fa7",
   "metadata": {},
   "outputs": [],
   "source": [
    "student1 = {\"Math\": 85, \"Science\": 90, \"English\": 88}\n",
    "student2 = {\"Math\": 78, \"Science\": 82, \"English\": 80}\n",
    "student3 = {\"Math\": 92, \"Science\": 89, \"English\": 95}\n",
    "\n",
    "students = {\"John\": student1, \"Emma\": student2, \"Raj\": student3}"
   ]
  },
  {
   "cell_type": "code",
   "execution_count": 180,
   "id": "8639eeef-d2a0-4d81-aeee-8ae09a5b54f7",
   "metadata": {},
   "outputs": [
    {
     "name": "stdout",
     "output_type": "stream",
     "text": [
      "{'John': {'Math': 85, 'Science': 90, 'English': 88}, 'Emma': {'Math': 78, 'Science': 82, 'English': 80}, 'Raj': {'Math': 92, 'Science': 89, 'English': 95}}\n"
     ]
    }
   ],
   "source": [
    "print(students)"
   ]
  },
  {
   "cell_type": "code",
   "execution_count": 186,
   "id": "25b009dd-560a-4a93-860f-5381b76d3be9",
   "metadata": {},
   "outputs": [
    {
     "name": "stdout",
     "output_type": "stream",
     "text": [
      "{'Math': 78, 'Science': 82, 'English': 80}\n"
     ]
    }
   ],
   "source": [
    "print(students[\"Emma\"])"
   ]
  },
  {
   "cell_type": "code",
   "execution_count": 187,
   "id": "7b8d4018-8b16-405a-831d-4c56a6778350",
   "metadata": {},
   "outputs": [
    {
     "name": "stdout",
     "output_type": "stream",
     "text": [
      "85\n"
     ]
    }
   ],
   "source": [
    "print(students[\"John\"][\"Math\"])"
   ]
  },
  {
   "cell_type": "markdown",
   "id": "5a697e5d-ac3a-4651-8a55-1e0ccd36d90b",
   "metadata": {},
   "source": [
    "## Tuple in Python\n",
    "A tuple is almost like a list, but there’s one big difference — tuples cannot be changed after they are created.\n",
    "That’s why tuples are called immutable.\n",
    "Once you store data in a tuple, you cannot add, remove, or modify its elements.\n",
    "Tuples are used when you want to store fixed data — something that should not change."
   ]
  },
  {
   "cell_type": "code",
   "execution_count": 188,
   "id": "40552e7b-9fa2-4786-bca7-4c5bf0ab7995",
   "metadata": {},
   "outputs": [],
   "source": [
    "# create an empty Tuples\n",
    "\n",
    "my_tuple = tuple()"
   ]
  },
  {
   "cell_type": "code",
   "execution_count": 189,
   "id": "01ad35a2-e5ec-4a5e-a33b-fcd7ae81c1d7",
   "metadata": {},
   "outputs": [
    {
     "data": {
      "text/plain": [
       "tuple"
      ]
     },
     "execution_count": 189,
     "metadata": {},
     "output_type": "execute_result"
    }
   ],
   "source": [
    "type(my_tuple)"
   ]
  },
  {
   "cell_type": "code",
   "execution_count": 190,
   "id": "c6e2afeb-8427-4607-bbc4-0b7b63f4c99f",
   "metadata": {},
   "outputs": [],
   "source": [
    "my_tuple = ()"
   ]
  },
  {
   "cell_type": "code",
   "execution_count": 191,
   "id": "5915c115-928b-470d-b8c1-ea7a670f1e21",
   "metadata": {},
   "outputs": [
    {
     "data": {
      "text/plain": [
       "tuple"
      ]
     },
     "execution_count": 191,
     "metadata": {},
     "output_type": "execute_result"
    }
   ],
   "source": [
    "type(my_tuple)"
   ]
  },
  {
   "cell_type": "code",
   "execution_count": 197,
   "id": "323b4a78-ba6e-4833-9727-2ccc6f1e4f6c",
   "metadata": {},
   "outputs": [],
   "source": [
    "my_tuple = (\"Tarique\", \"Anwer\", \"Khan\", \"xyz\")"
   ]
  },
  {
   "cell_type": "code",
   "execution_count": 193,
   "id": "27254b71-0913-4e23-958a-632205e21b96",
   "metadata": {},
   "outputs": [
    {
     "name": "stdout",
     "output_type": "stream",
     "text": [
      "('Tarique', 'Anwer', 'Khan', 'xyz')\n"
     ]
    }
   ],
   "source": [
    "print(my_tuple)"
   ]
  },
  {
   "cell_type": "code",
   "execution_count": 194,
   "id": "4ab678a8-c079-4b27-a8fe-e2d98cb8ddce",
   "metadata": {},
   "outputs": [],
   "source": [
    "my_tuple = (\"Hello\", \"World\")"
   ]
  },
  {
   "cell_type": "code",
   "execution_count": 195,
   "id": "ede3c3c1-58d4-4260-8947-353136dfc686",
   "metadata": {},
   "outputs": [
    {
     "name": "stdout",
     "output_type": "stream",
     "text": [
      "<class 'tuple'>\n",
      "('Hello', 'World')\n"
     ]
    }
   ],
   "source": [
    "print(type(my_tuple))\n",
    "print(my_tuple)"
   ]
  },
  {
   "cell_type": "code",
   "execution_count": 200,
   "id": "80462890-451b-4bba-bdae-98363f40cc25",
   "metadata": {},
   "outputs": [
    {
     "data": {
      "text/plain": [
       "1"
      ]
     },
     "execution_count": 200,
     "metadata": {},
     "output_type": "execute_result"
    }
   ],
   "source": [
    "my_tuple.count(\"Khan\")"
   ]
  },
  {
   "cell_type": "code",
   "execution_count": 202,
   "id": "4edc1ad1-a3d1-4c52-b2fd-50585afa9742",
   "metadata": {},
   "outputs": [
    {
     "data": {
      "text/plain": [
       "3"
      ]
     },
     "execution_count": 202,
     "metadata": {},
     "output_type": "execute_result"
    }
   ],
   "source": [
    "my_tuple.index(\"xyz\")"
   ]
  }
 ],
 "metadata": {
  "kernelspec": {
   "display_name": "Python 3 (ipykernel)",
   "language": "python",
   "name": "python3"
  },
  "language_info": {
   "codemirror_mode": {
    "name": "ipython",
    "version": 3
   },
   "file_extension": ".py",
   "mimetype": "text/x-python",
   "name": "python",
   "nbconvert_exporter": "python",
   "pygments_lexer": "ipython3",
   "version": "3.13.7"
  }
 },
 "nbformat": 4,
 "nbformat_minor": 5
}
