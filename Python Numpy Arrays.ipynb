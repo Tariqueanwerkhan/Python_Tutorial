{
 "cells": [
  {
   "cell_type": "markdown",
   "id": "13ced404-ad61-4eba-ba5b-98f2598519a7",
   "metadata": {},
   "source": [
    "## What is NumPy?\n",
    "NumPy stands for Numerical Python.\n",
    "It is a powerful Python library used for performing mathematical and scientific calculations efficiently.\n",
    "It mainly provides a multi-dimensional array object called ndarray (N-dimensional array).\n",
    "NumPy arrays are faster, more compact, and more efficient than Python lists when you work with large amounts of data.\n",
    "\n",
    "NumPy = Fast mathematical operations + Efficient data storage + Support for large multi-dimensional arrays"
   ]
  },
  {
   "cell_type": "code",
   "execution_count": 1,
   "id": "a9e45a64-cb05-4911-afee-b1ccf180553e",
   "metadata": {},
   "outputs": [],
   "source": [
    "# import the library\n",
    "import numpy as np"
   ]
  },
  {
   "cell_type": "code",
   "execution_count": 3,
   "id": "769618b6-29c6-4d45-a376-6491a91f260e",
   "metadata": {},
   "outputs": [],
   "source": [
    "lst = [1, 2, 3, 4, 5, 6, 7, 8]\n",
    "arr = np.array(lst)"
   ]
  },
  {
   "cell_type": "code",
   "execution_count": 4,
   "id": "b8926272-78f8-4274-bc2d-d81976124c0c",
   "metadata": {},
   "outputs": [
    {
     "data": {
      "text/plain": [
       "numpy.ndarray"
      ]
     },
     "execution_count": 4,
     "metadata": {},
     "output_type": "execute_result"
    }
   ],
   "source": [
    "type(arr)"
   ]
  },
  {
   "cell_type": "code",
   "execution_count": 5,
   "id": "ba5ea33b-b48f-49c3-bfdc-c3feea431af3",
   "metadata": {},
   "outputs": [
    {
     "data": {
      "text/plain": [
       "(8,)"
      ]
     },
     "execution_count": 5,
     "metadata": {},
     "output_type": "execute_result"
    }
   ],
   "source": [
    "arr.shape"
   ]
  },
  {
   "cell_type": "code",
   "execution_count": 12,
   "id": "01a3e3d0-4685-4926-8e50-1898058ec81b",
   "metadata": {},
   "outputs": [
    {
     "data": {
      "text/plain": [
       "array([1, 2, 3, 4, 5, 6, 7, 8])"
      ]
     },
     "execution_count": 12,
     "metadata": {},
     "output_type": "execute_result"
    }
   ],
   "source": [
    "arr"
   ]
  },
  {
   "cell_type": "code",
   "execution_count": null,
   "id": "6cda5ec4-40b0-4b9e-8e76-73733f59c050",
   "metadata": {},
   "outputs": [],
   "source": [
    "arr"
   ]
  },
  {
   "cell_type": "code",
   "execution_count": 18,
   "id": "80e42dac-6532-487c-aae8-d22294c4a49a",
   "metadata": {},
   "outputs": [
    {
     "data": {
      "text/plain": [
       "np.int64(4)"
      ]
     },
     "execution_count": 18,
     "metadata": {},
     "output_type": "execute_result"
    }
   ],
   "source": [
    "arr[3]"
   ]
  },
  {
   "cell_type": "code",
   "execution_count": 19,
   "id": "85ce5fbb-c83c-45c7-ad81-0f09dc3daeb2",
   "metadata": {},
   "outputs": [
    {
     "data": {
      "text/plain": [
       "4"
      ]
     },
     "execution_count": 19,
     "metadata": {},
     "output_type": "execute_result"
    }
   ],
   "source": [
    "arr[3].item()"
   ]
  },
  {
   "cell_type": "code",
   "execution_count": 20,
   "id": "91ad0a27-08a4-478e-9f47-c6bb88cae7be",
   "metadata": {},
   "outputs": [],
   "source": [
    "arr[6] = 11"
   ]
  },
  {
   "cell_type": "code",
   "execution_count": 21,
   "id": "13798b1f-ec46-44a6-8e4c-679b3302a696",
   "metadata": {},
   "outputs": [
    {
     "data": {
      "text/plain": [
       "array([ 1,  2,  3,  4,  5,  6, 11,  8])"
      ]
     },
     "execution_count": 21,
     "metadata": {},
     "output_type": "execute_result"
    }
   ],
   "source": [
    "arr"
   ]
  },
  {
   "cell_type": "code",
   "execution_count": 27,
   "id": "ef5c0176-7945-4e37-bfe6-0097c8c6eaf3",
   "metadata": {},
   "outputs": [
    {
     "data": {
      "text/plain": [
       "array([1, 2, 3, 4, 5])"
      ]
     },
     "execution_count": 27,
     "metadata": {},
     "output_type": "execute_result"
    }
   ],
   "source": [
    "arr[:5]"
   ]
  },
  {
   "cell_type": "code",
   "execution_count": 30,
   "id": "83748e78-a81e-447e-8713-fa25ddd3704f",
   "metadata": {},
   "outputs": [
    {
     "data": {
      "text/plain": [
       "array([ 5,  6, 11,  8])"
      ]
     },
     "execution_count": 30,
     "metadata": {},
     "output_type": "execute_result"
    }
   ],
   "source": [
    "arr[4:]"
   ]
  },
  {
   "cell_type": "code",
   "execution_count": 31,
   "id": "42e0739b-f530-42ab-b26e-540169b3ea98",
   "metadata": {},
   "outputs": [
    {
     "data": {
      "text/plain": [
       "array([ 1,  2,  3,  4,  5,  6, 11])"
      ]
     },
     "execution_count": 31,
     "metadata": {},
     "output_type": "execute_result"
    }
   ],
   "source": [
    "arr[:-1]"
   ]
  },
  {
   "cell_type": "code",
   "execution_count": 32,
   "id": "82af7a04-a32c-4eb2-bd54-b9faaa6ccf52",
   "metadata": {},
   "outputs": [
    {
     "data": {
      "text/plain": [
       "array([ 8, 11,  6,  5,  4,  3,  2,  1])"
      ]
     },
     "execution_count": 32,
     "metadata": {},
     "output_type": "execute_result"
    }
   ],
   "source": [
    "arr[::-1]"
   ]
  },
  {
   "cell_type": "code",
   "execution_count": 33,
   "id": "61f643b1-80cb-4726-8710-9fb637a41600",
   "metadata": {},
   "outputs": [
    {
     "data": {
      "text/plain": [
       "array([8, 5, 2])"
      ]
     },
     "execution_count": 33,
     "metadata": {},
     "output_type": "execute_result"
    }
   ],
   "source": [
    "arr[::-3]"
   ]
  },
  {
   "cell_type": "code",
   "execution_count": 34,
   "id": "91ccc757-ac5d-48c9-ac58-a31b502d20ab",
   "metadata": {},
   "outputs": [
    {
     "data": {
      "text/plain": [
       "array([8, 6, 4, 2])"
      ]
     },
     "execution_count": 34,
     "metadata": {},
     "output_type": "execute_result"
    }
   ],
   "source": [
    "arr[::-2]"
   ]
  },
  {
   "cell_type": "code",
   "execution_count": 35,
   "id": "3535fefd-290c-4a8d-90bd-0820ad09526d",
   "metadata": {},
   "outputs": [
    {
     "data": {
      "text/plain": [
       "array([1, 2, 3, 4, 5, 6])"
      ]
     },
     "execution_count": 35,
     "metadata": {},
     "output_type": "execute_result"
    }
   ],
   "source": [
    "arr[:-2]"
   ]
  },
  {
   "cell_type": "code",
   "execution_count": 37,
   "id": "b63ba037-4e45-4497-9155-29d94843c379",
   "metadata": {},
   "outputs": [
    {
     "data": {
      "text/plain": [
       "array([4, 5, 6])"
      ]
     },
     "execution_count": 37,
     "metadata": {},
     "output_type": "execute_result"
    }
   ],
   "source": [
    "arr[3:6] "
   ]
  },
  {
   "cell_type": "code",
   "execution_count": 42,
   "id": "4362574c-d69a-498f-9009-e560ce6966c2",
   "metadata": {},
   "outputs": [
    {
     "data": {
      "text/plain": [
       "array([1, 3, 5])"
      ]
     },
     "execution_count": 42,
     "metadata": {},
     "output_type": "execute_result"
    }
   ],
   "source": [
    "arr[0:6:2]"
   ]
  },
  {
   "cell_type": "code",
   "execution_count": 6,
   "id": "62797f92-0ce2-470f-92d0-918e699226aa",
   "metadata": {},
   "outputs": [
    {
     "data": {
      "text/plain": [
       "array([[1, 2, 3, 4, 5],\n",
       "       [3, 4, 5, 6, 7],\n",
       "       [5, 6, 7, 8, 9]])"
      ]
     },
     "execution_count": 6,
     "metadata": {},
     "output_type": "execute_result"
    }
   ],
   "source": [
    "lst1 = [1, 2, 3, 4, 5]\n",
    "lst2 = [3, 4, 5, 6, 7]\n",
    "lst3 = [5, 6, 7, 8, 9]\n",
    "np.array([lst1, lst2, lst3])"
   ]
  },
  {
   "cell_type": "code",
   "execution_count": 9,
   "id": "b97b0488-2f25-4ecf-9a1b-24a0af65b144",
   "metadata": {},
   "outputs": [
    {
     "data": {
      "text/plain": [
       "(3, 5)"
      ]
     },
     "execution_count": 9,
     "metadata": {},
     "output_type": "execute_result"
    }
   ],
   "source": [
    "arr1.shape"
   ]
  },
  {
   "cell_type": "code",
   "execution_count": 7,
   "id": "f9c52f73-c56a-4f10-b108-a590ab39eaa5",
   "metadata": {},
   "outputs": [],
   "source": [
    "arr1 = np.array([lst1, lst2, lst3])"
   ]
  },
  {
   "cell_type": "code",
   "execution_count": 43,
   "id": "efffeaa0-e0b4-40fe-bc9c-d3cfd1dd8e7b",
   "metadata": {},
   "outputs": [
    {
     "data": {
      "text/plain": [
       "array([[1, 2, 3, 4, 5],\n",
       "       [3, 4, 5, 6, 7],\n",
       "       [5, 6, 7, 8, 9]])"
      ]
     },
     "execution_count": 43,
     "metadata": {},
     "output_type": "execute_result"
    }
   ],
   "source": [
    "arr1"
   ]
  },
  {
   "cell_type": "code",
   "execution_count": 55,
   "id": "51e5b51f-2da8-4686-ac6a-e89def486699",
   "metadata": {},
   "outputs": [
    {
     "data": {
      "text/plain": [
       "array([3, 5, 7])"
      ]
     },
     "execution_count": 55,
     "metadata": {},
     "output_type": "execute_result"
    }
   ],
   "source": [
    "arr1[:,2]"
   ]
  },
  {
   "cell_type": "code",
   "execution_count": 56,
   "id": "9f0653d2-a917-4603-b23a-5d0acaed369b",
   "metadata": {},
   "outputs": [
    {
     "data": {
      "text/plain": [
       "array([5, 7])"
      ]
     },
     "execution_count": 56,
     "metadata": {},
     "output_type": "execute_result"
    }
   ],
   "source": [
    "arr1[1:,2]"
   ]
  },
  {
   "cell_type": "code",
   "execution_count": 57,
   "id": "3c4ddffb-8ad5-4fbf-98c9-a8a26c4a401c",
   "metadata": {},
   "outputs": [
    {
     "data": {
      "text/plain": [
       "array([5, 7, 9])"
      ]
     },
     "execution_count": 57,
     "metadata": {},
     "output_type": "execute_result"
    }
   ],
   "source": [
    "arr1[:,4]"
   ]
  },
  {
   "cell_type": "code",
   "execution_count": 53,
   "id": "de20de4d-b78a-4ceb-9edd-22611bd269e5",
   "metadata": {},
   "outputs": [
    {
     "data": {
      "text/plain": [
       "array([9])"
      ]
     },
     "execution_count": 53,
     "metadata": {},
     "output_type": "execute_result"
    }
   ],
   "source": [
    "arr1[2:,4]"
   ]
  },
  {
   "cell_type": "code",
   "execution_count": 62,
   "id": "09f4a32f-5608-4679-99fd-ceee983ec1cc",
   "metadata": {},
   "outputs": [
    {
     "data": {
      "text/plain": [
       "array([1, 3, 5])"
      ]
     },
     "execution_count": 62,
     "metadata": {},
     "output_type": "execute_result"
    }
   ],
   "source": [
    "arr1[:,0]"
   ]
  },
  {
   "cell_type": "code",
   "execution_count": 65,
   "id": "826df093-4db3-42c5-83cf-7725631e949c",
   "metadata": {},
   "outputs": [
    {
     "data": {
      "text/plain": [
       "array([[4, 5],\n",
       "       [6, 7]])"
      ]
     },
     "execution_count": 65,
     "metadata": {},
     "output_type": "execute_result"
    }
   ],
   "source": [
    "arr1[1:,1:3]"
   ]
  },
  {
   "cell_type": "code",
   "execution_count": 74,
   "id": "7258c614-b3b2-49fb-ae18-80cffff87985",
   "metadata": {},
   "outputs": [
    {
     "data": {
      "text/plain": [
       "array([[6, 7],\n",
       "       [8, 9]])"
      ]
     },
     "execution_count": 74,
     "metadata": {},
     "output_type": "execute_result"
    }
   ],
   "source": [
    "arr1[1:,3:]"
   ]
  },
  {
   "cell_type": "code",
   "execution_count": 78,
   "id": "db508623-3332-47be-b7bd-0acfaae31c02",
   "metadata": {},
   "outputs": [
    {
     "data": {
      "text/plain": [
       "(2, 2)"
      ]
     },
     "execution_count": 78,
     "metadata": {},
     "output_type": "execute_result"
    }
   ],
   "source": [
    "arr1[1:,3:].shape"
   ]
  },
  {
   "cell_type": "code",
   "execution_count": 77,
   "id": "d2fef688-ee16-4e20-b536-f1874d3dc7c3",
   "metadata": {},
   "outputs": [
    {
     "data": {
      "text/plain": [
       "array([[4, 5],\n",
       "       [6, 7],\n",
       "       [8, 9]])"
      ]
     },
     "execution_count": 77,
     "metadata": {},
     "output_type": "execute_result"
    }
   ],
   "source": [
    "arr1[:,3:]"
   ]
  },
  {
   "cell_type": "code",
   "execution_count": 79,
   "id": "20e6ea8e-0a3d-4c03-96b3-df9269d7fa98",
   "metadata": {},
   "outputs": [
    {
     "data": {
      "text/plain": [
       "(3, 2)"
      ]
     },
     "execution_count": 79,
     "metadata": {},
     "output_type": "execute_result"
    }
   ],
   "source": [
    "arr1[:,3:].shape"
   ]
  },
  {
   "cell_type": "code",
   "execution_count": 90,
   "id": "e87beb4c-15b4-4e2c-b364-fa2cf882d7e2",
   "metadata": {},
   "outputs": [
    {
     "data": {
      "text/plain": [
       "array([ 1,  2,  3,  4,  5,  6, 11,  8])"
      ]
     },
     "execution_count": 90,
     "metadata": {},
     "output_type": "execute_result"
    }
   ],
   "source": [
    "# Exploratory Data Analysis(EDA)\n",
    "arr"
   ]
  },
  {
   "cell_type": "code",
   "execution_count": 97,
   "id": "fccb169c-d5ea-4c9b-9518-1b46d1fe6c02",
   "metadata": {},
   "outputs": [
    {
     "data": {
      "text/plain": [
       "array([ True,  True,  True,  True, False, False, False, False])"
      ]
     },
     "execution_count": 97,
     "metadata": {},
     "output_type": "execute_result"
    }
   ],
   "source": [
    "arr < 5"
   ]
  },
  {
   "cell_type": "code",
   "execution_count": 98,
   "id": "1159e3e9-38a9-4190-98d7-a7315b0b6656",
   "metadata": {},
   "outputs": [
    {
     "data": {
      "text/plain": [
       "array([1, 2, 3, 4])"
      ]
     },
     "execution_count": 98,
     "metadata": {},
     "output_type": "execute_result"
    }
   ],
   "source": [
    "arr[arr<5]"
   ]
  },
  {
   "cell_type": "code",
   "execution_count": 99,
   "id": "c42ec3c0-529b-47c2-a62a-9a4669193de1",
   "metadata": {},
   "outputs": [
    {
     "data": {
      "text/plain": [
       "array([[1, 2, 3, 4, 5],\n",
       "       [3, 4, 5, 6, 7],\n",
       "       [5, 6, 7, 8, 9]])"
      ]
     },
     "execution_count": 99,
     "metadata": {},
     "output_type": "execute_result"
    }
   ],
   "source": [
    "arr1"
   ]
  },
  {
   "cell_type": "code",
   "execution_count": 100,
   "id": "63d81d31-365b-4961-aec1-4106de6680c9",
   "metadata": {},
   "outputs": [
    {
     "data": {
      "text/plain": [
       "(3, 5)"
      ]
     },
     "execution_count": 100,
     "metadata": {},
     "output_type": "execute_result"
    }
   ],
   "source": [
    "arr1.shape"
   ]
  },
  {
   "cell_type": "code",
   "execution_count": 101,
   "id": "6bc78048-da46-4726-b2c3-c7c98a8dbc98",
   "metadata": {},
   "outputs": [
    {
     "data": {
      "text/plain": [
       "array([[1, 2, 3],\n",
       "       [4, 5, 3],\n",
       "       [4, 5, 6],\n",
       "       [7, 5, 6],\n",
       "       [7, 8, 9]])"
      ]
     },
     "execution_count": 101,
     "metadata": {},
     "output_type": "execute_result"
    }
   ],
   "source": [
    "arr1.reshape(5,3)"
   ]
  },
  {
   "cell_type": "code",
   "execution_count": 104,
   "id": "1754cf05-9249-43b9-92cf-f4923eff7ab4",
   "metadata": {},
   "outputs": [
    {
     "data": {
      "text/plain": [
       "array([1, 2, 3, 4, 5, 6, 7, 8, 9])"
      ]
     },
     "execution_count": 104,
     "metadata": {},
     "output_type": "execute_result"
    }
   ],
   "source": [
    "# mechanism to create an array\n",
    "np.arange(1,10,1)   #arange(start, stop, step)"
   ]
  },
  {
   "cell_type": "code",
   "execution_count": 106,
   "id": "c45d8064-38a5-49d9-b9ae-90b152b5f424",
   "metadata": {},
   "outputs": [
    {
     "data": {
      "text/plain": [
       "array([ 1,  3,  5,  7,  9, 11, 13, 15, 17, 19])"
      ]
     },
     "execution_count": 106,
     "metadata": {},
     "output_type": "execute_result"
    }
   ],
   "source": [
    "np.arange(1,10,2)"
   ]
  },
  {
   "cell_type": "code",
   "execution_count": 108,
   "id": "8c5b0bc8-de4f-433e-a4c6-b500837513f7",
   "metadata": {},
   "outputs": [
    {
     "data": {
      "text/plain": [
       "array([ 1,  3,  5,  7,  9, 11, 13, 15, 17, 19, 21, 23])"
      ]
     },
     "execution_count": 108,
     "metadata": {},
     "output_type": "execute_result"
    }
   ],
   "source": [
    "np.arange(1,25,2)"
   ]
  },
  {
   "cell_type": "code",
   "execution_count": 120,
   "id": "d25f0380-109a-4903-b44f-6da7d1019e15",
   "metadata": {},
   "outputs": [
    {
     "data": {
      "text/plain": [
       "array([[ 1,  3,  5,  7,  9],\n",
       "       [11, 13, 15, 17, 19],\n",
       "       [21, 23, 25, 27, 29]])"
      ]
     },
     "execution_count": 120,
     "metadata": {},
     "output_type": "execute_result"
    }
   ],
   "source": [
    "np.arange(1,30,2).reshape(3,5)"
   ]
  },
  {
   "cell_type": "code",
   "execution_count": 125,
   "id": "d07f9954-ece0-4407-b38e-8195820bb36e",
   "metadata": {},
   "outputs": [
    {
     "data": {
      "text/plain": [
       "array([[ 1,  3,  5],\n",
       "       [ 7,  9, 11],\n",
       "       [13, 15, 17],\n",
       "       [19, 21, 23],\n",
       "       [25, 27, 29]])"
      ]
     },
     "execution_count": 125,
     "metadata": {},
     "output_type": "execute_result"
    }
   ],
   "source": [
    "np.arange(1,30,2).reshape(5,3)"
   ]
  },
  {
   "cell_type": "code",
   "execution_count": 128,
   "id": "eaa5852a-c44e-426d-b8cb-381ab1734b11",
   "metadata": {},
   "outputs": [
    {
     "data": {
      "text/plain": [
       "array([[[ 1],\n",
       "        [ 3],\n",
       "        [ 5],\n",
       "        [ 7],\n",
       "        [ 9]],\n",
       "\n",
       "       [[11],\n",
       "        [13],\n",
       "        [15],\n",
       "        [17],\n",
       "        [19]],\n",
       "\n",
       "       [[21],\n",
       "        [23],\n",
       "        [25],\n",
       "        [27],\n",
       "        [29]]])"
      ]
     },
     "execution_count": 128,
     "metadata": {},
     "output_type": "execute_result"
    }
   ],
   "source": [
    "np.arange(1,30,2).reshape(3,5,1)    #3-D"
   ]
  },
  {
   "cell_type": "code",
   "execution_count": 129,
   "id": "e5f2026a-26a7-4353-b0d7-cf11719f0870",
   "metadata": {},
   "outputs": [
    {
     "data": {
      "text/plain": [
       "array([ 1,  2,  3,  4,  5,  6, 11,  8])"
      ]
     },
     "execution_count": 129,
     "metadata": {},
     "output_type": "execute_result"
    }
   ],
   "source": [
    "arr"
   ]
  },
  {
   "cell_type": "code",
   "execution_count": 130,
   "id": "fc80758a-5db6-4893-8ab1-a7de42e590a6",
   "metadata": {},
   "outputs": [
    {
     "data": {
      "text/plain": [
       "array([  1,   4,   9,  16,  25,  36, 121,  64])"
      ]
     },
     "execution_count": 130,
     "metadata": {},
     "output_type": "execute_result"
    }
   ],
   "source": [
    "arr * arr"
   ]
  },
  {
   "cell_type": "code",
   "execution_count": 131,
   "id": "4721aed2-dda5-49d2-9dd1-c1afdbc356b2",
   "metadata": {},
   "outputs": [
    {
     "data": {
      "text/plain": [
       "array([[1, 2, 3, 4, 5],\n",
       "       [3, 4, 5, 6, 7],\n",
       "       [5, 6, 7, 8, 9]])"
      ]
     },
     "execution_count": 131,
     "metadata": {},
     "output_type": "execute_result"
    }
   ],
   "source": [
    "arr1"
   ]
  },
  {
   "cell_type": "code",
   "execution_count": 132,
   "id": "670245c2-2098-4558-9cde-20a3143fe3fa",
   "metadata": {},
   "outputs": [
    {
     "data": {
      "text/plain": [
       "array([[ 2,  4,  6,  8, 10],\n",
       "       [ 6,  8, 10, 12, 14],\n",
       "       [10, 12, 14, 16, 18]])"
      ]
     },
     "execution_count": 132,
     "metadata": {},
     "output_type": "execute_result"
    }
   ],
   "source": [
    "arr1 * 2"
   ]
  },
  {
   "cell_type": "code",
   "execution_count": 136,
   "id": "5ed611b2-e633-4672-8ddf-c022ef51be85",
   "metadata": {},
   "outputs": [
    {
     "data": {
      "text/plain": [
       "array([[1., 1., 1., 1., 1.],\n",
       "       [1., 1., 1., 1., 1.],\n",
       "       [1., 1., 1., 1., 1.]])"
      ]
     },
     "execution_count": 136,
     "metadata": {},
     "output_type": "execute_result"
    }
   ],
   "source": [
    "np.ones((3,5))"
   ]
  },
  {
   "cell_type": "code",
   "execution_count": 139,
   "id": "4a6c5ad1-c3bb-44b1-9181-63938e172674",
   "metadata": {},
   "outputs": [
    {
     "data": {
      "text/plain": [
       "array([[0., 0., 0., 0., 0.],\n",
       "       [0., 0., 0., 0., 0.],\n",
       "       [0., 0., 0., 0., 0.]])"
      ]
     },
     "execution_count": 139,
     "metadata": {},
     "output_type": "execute_result"
    }
   ],
   "source": [
    "np.zeros((3,5))"
   ]
  },
  {
   "cell_type": "code",
   "execution_count": 147,
   "id": "83a70974-8588-451a-997b-e8aad51c2d97",
   "metadata": {},
   "outputs": [
    {
     "data": {
      "text/plain": [
       "array([0, 0])"
      ]
     },
     "execution_count": 147,
     "metadata": {},
     "output_type": "execute_result"
    }
   ],
   "source": [
    "np.zeros_like((3,5))"
   ]
  },
  {
   "cell_type": "code",
   "execution_count": 160,
   "id": "9b5b1b71-0cbf-45b7-95dc-a9d62b99557b",
   "metadata": {},
   "outputs": [
    {
     "data": {
      "text/plain": [
       "array([70, 55, 82, 56, 78, 90], dtype=int32)"
      ]
     },
     "execution_count": 160,
     "metadata": {},
     "output_type": "execute_result"
    }
   ],
   "source": [
    "np.random.randint(50,100,6)"
   ]
  },
  {
   "cell_type": "code",
   "execution_count": 162,
   "id": "77db09e8-ee41-4546-ad7a-5f190ca41746",
   "metadata": {},
   "outputs": [
    {
     "data": {
      "text/plain": [
       "array([[50, 66],\n",
       "       [70, 78],\n",
       "       [84, 75]], dtype=int32)"
      ]
     },
     "execution_count": 162,
     "metadata": {},
     "output_type": "execute_result"
    }
   ],
   "source": [
    "np.random.randint(50,100,6).reshape(3,2)"
   ]
  },
  {
   "cell_type": "code",
   "execution_count": 165,
   "id": "6fc43e82-61d5-4fa2-b94c-32cb6c15d4cc",
   "metadata": {},
   "outputs": [
    {
     "data": {
      "text/plain": [
       "array([[ 1.70186361,  1.46457217, -2.21442984,  0.16615695,  0.41638931],\n",
       "       [-0.72239761, -1.29668356, -0.39655589,  2.0393689 ,  0.6276042 ],\n",
       "       [ 0.65243103, -0.41686533, -0.30079601,  0.0252023 , -1.6253568 ],\n",
       "       [ 1.13324804, -0.37763719, -0.66648805, -1.43719823,  1.60423048]])"
      ]
     },
     "execution_count": 165,
     "metadata": {},
     "output_type": "execute_result"
    }
   ],
   "source": [
    "np.random.randn(4,5)"
   ]
  },
  {
   "cell_type": "code",
   "execution_count": 166,
   "id": "5cc37090-89fd-4487-b232-97bcc807e88a",
   "metadata": {},
   "outputs": [
    {
     "data": {
      "text/plain": [
       "array([[0.7844591 , 0.37342062, 0.11816785, 0.33666106, 0.90709509],\n",
       "       [0.366049  , 0.98096366, 0.42985685, 0.76975835, 0.55137292],\n",
       "       [0.63624836, 0.0784439 , 0.86154003, 0.22577226, 0.7176133 ],\n",
       "       [0.67308958, 0.19779846, 0.39211764, 0.54639571, 0.61456183]])"
      ]
     },
     "execution_count": 166,
     "metadata": {},
     "output_type": "execute_result"
    }
   ],
   "source": [
    "np.random.random_sample((4,5))"
   ]
  },
  {
   "cell_type": "code",
   "execution_count": null,
   "id": "330cde05-646d-44e3-a06d-3485610a4d62",
   "metadata": {},
   "outputs": [],
   "source": []
  },
  {
   "cell_type": "code",
   "execution_count": null,
   "id": "cb38d665-6c22-412c-b8c7-e54b4f727596",
   "metadata": {},
   "outputs": [],
   "source": []
  },
  {
   "cell_type": "code",
   "execution_count": null,
   "id": "d0d5d5d9-6673-4459-a97f-db3509d8bfb5",
   "metadata": {},
   "outputs": [],
   "source": []
  }
 ],
 "metadata": {
  "kernelspec": {
   "display_name": "Python 3 (ipykernel)",
   "language": "python",
   "name": "python3"
  },
  "language_info": {
   "codemirror_mode": {
    "name": "ipython",
    "version": 3
   },
   "file_extension": ".py",
   "mimetype": "text/x-python",
   "name": "python",
   "nbconvert_exporter": "python",
   "pygments_lexer": "ipython3",
   "version": "3.13.7"
  }
 },
 "nbformat": 4,
 "nbformat_minor": 5
}
